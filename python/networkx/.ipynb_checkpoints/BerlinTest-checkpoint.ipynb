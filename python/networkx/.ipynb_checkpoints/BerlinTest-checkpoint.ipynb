{
 "cells": [
  {
   "cell_type": "code",
   "execution_count": 1,
   "metadata": {
    "collapsed": true
   },
   "outputs": [],
   "source": [
    "from utils import osmHelper as oh\n"
   ]
  },
  {
   "cell_type": "code",
   "execution_count": 2,
   "metadata": {
    "collapsed": false
   },
   "outputs": [],
   "source": [
    "berlinMap = open(\"../../../../berlin-latest.osm\")\n",
    "graph = oh.read_osm(berlinMap)"
   ]
  },
  {
   "cell_type": "code",
   "execution_count": 11,
   "metadata": {
    "collapsed": true
   },
   "outputs": [],
   "source": [
    "extremeNorth = (-100,0)\n",
    "extremeSouth = (100,0)\n",
    "extremeEast = (0,-180)\n",
    "extremeWest = (0,180)\n",
    "\n",
    "extremeNorthId = 0\n",
    "extremeSouthId = 0\n",
    "extremeEastId = 0\n",
    "extremeWestId = 0"
   ]
  },
  {
   "cell_type": "code",
   "execution_count": 14,
   "metadata": {
    "collapsed": false
   },
   "outputs": [
    {
     "data": {
      "text/plain": [
       "52.5807433"
      ]
     },
     "execution_count": 14,
     "metadata": {},
     "output_type": "execute_result"
    }
   ],
   "source": [
    "id = graph.nodes()[0]\n",
    "node = graph.node[id][\"data\"]\n",
    "node.lat"
   ]
  },
  {
   "cell_type": "code",
   "execution_count": 16,
   "metadata": {
    "collapsed": false
   },
   "outputs": [],
   "source": [
    "for id in graph.nodes_iter():\n",
    "    node = graph.node[id][\"data\"]\n",
    "    \n",
    "    if node.lat > extremeNorth[0]:\n",
    "        print(\"north\")\n",
    "        extremeNorthId = id\n",
    "        extremeNorth=(node.lat,node.lon)\n",
    "        \n",
    "    elif node.lat < extremeSouth[0]:\n",
    "        print(\"north\")\n",
    "        extremeSouthId = id\n",
    "        extremeSouh=(node.lat,node.lon)\n",
    "    elif node.lat == extremeEast[0] and node.lon == extremeEast[1]:\n",
    "        print(\"north\")\n",
    "        extremeEastId = id\n",
    "    elif node.lat == extremeWest[0] and node.lon == extremeWest[1]:\n",
    "        print(\"north\")\n",
    "        extremeWestId = id"
   ]
  },
  {
   "cell_type": "code",
   "execution_count": 17,
   "metadata": {
    "collapsed": false
   },
   "outputs": [
    {
     "name": "stdout",
     "output_type": "stream",
     "text": [
      "(52.34046, 13.647459)\n"
     ]
    }
   ],
   "source": [
    "print(extremeSouth)"
   ]
  },
  {
   "cell_type": "code",
   "execution_count": null,
   "metadata": {
    "collapsed": true
   },
   "outputs": [],
   "source": []
  }
 ],
 "metadata": {
  "kernelspec": {
   "display_name": "Python 3",
   "language": "python",
   "name": "python3"
  },
  "language_info": {
   "codemirror_mode": {
    "name": "ipython",
    "version": 3
   },
   "file_extension": ".py",
   "mimetype": "text/x-python",
   "name": "python",
   "nbconvert_exporter": "python",
   "pygments_lexer": "ipython3",
   "version": "3.5.2"
  }
 },
 "nbformat": 4,
 "nbformat_minor": 2
}
